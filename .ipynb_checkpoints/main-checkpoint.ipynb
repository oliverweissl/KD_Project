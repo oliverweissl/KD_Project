{
 "cells": [
  {
   "cell_type": "code",
   "execution_count": 141,
   "metadata": {},
   "outputs": [],
   "source": [
    "import pandas as pd\n",
    "import numpy as np\n",
    "import matplotlib.pyplot as plt\n",
    "import matplotlib.colors\n",
    "\n",
    "%matplotlib inline"
   ]
  },
  {
   "cell_type": "code",
   "execution_count": 123,
   "metadata": {},
   "outputs": [],
   "source": [
    "#query ncbi taxonomy dataset\n",
    "from ete3 import NCBITaxa\n",
    "ncbi = NCBITaxa()"
   ]
  },
  {
   "cell_type": "code",
   "execution_count": 124,
   "metadata": {},
   "outputs": [],
   "source": [
    "#get data from CSV\n",
    "df = pd.read_csv('codon_usage.csv',low_memory=False)\n",
    "dfs = np.split(df, [5], axis=1)\n",
    "\n",
    "codons = dfs[1]\n",
    "species = dfs[0]\n",
    "\n",
    "codons = codons[sorted(codons.columns)]\n",
    "pd.set_option(\"display.max_rows\", 10, \"display.max_columns\", None)"
   ]
  },
  {
   "cell_type": "code",
   "execution_count": null,
   "metadata": {},
   "outputs": [],
   "source": []
  },
  {
   "cell_type": "markdown",
   "metadata": {},
   "source": [
    "Visialize Codon for Species"
   ]
  },
  {
   "cell_type": "code",
   "execution_count": 140,
   "metadata": {},
   "outputs": [],
   "source": [
    "def get_codon_distr(X): #Get distribution of Codons\n",
    "    X = np.array(X).astype(np.float)\n",
    "    first_ACGU = [sum(X[:16]), sum(X[16:32]),sum(X[32:48]), sum(X[48:64])]\n",
    "    second_ACGU = []\n",
    "    for i in range(4):\n",
    "        comp = sum(X[i*16:i*16+4]) + sum(X[i*16+4:i*16+8]) + sum(X[i*16+8:i*16+12]) +sum(X[i*16+12: i*16+16])\n",
    "        \n",
    "        second_ACGU.append(sum(X[i*16:i*16+4])/comp*first_ACGU[i])\n",
    "        second_ACGU.append(sum(X[i*16+4:i*16+8])/comp*first_ACGU[i])\n",
    "        second_ACGU.append(sum(X[i*16+8:i*16+12])/comp*first_ACGU[i])\n",
    "        second_ACGU.append(sum(X[i*16+12: i*16+16])/comp*first_ACGU[i])\n",
    "    return first_ACGU, second_ACGU, X\n",
    "\n",
    "\n",
    "def get_codon_graph(index): #Plot codon distribution\n",
    "    organism, organism_name = codons.loc[index], species.loc[index][4]\n",
    "    vals = get_codon_distr(organism)\n",
    "\n",
    "    fig, ax = plt.subplots(dpi=100) #dpi -> controls plot size\n",
    "    \n",
    "    radius = 1\n",
    "    size = radius/3\n",
    "    \n",
    "    cmap = plt.get_cmap(\"tab20c\")\n",
    "    inner_colors = cmap([1,5,10,17])\n",
    "\n",
    "    #rings of the plot\n",
    "    inner, _ = ax.pie(vals[2], radius= radius, colors = inner_colors)\n",
    "    middle, _ = ax.pie(vals[1], radius= radius-size, colors = inner_colors)\n",
    "    outer, _ = ax.pie(vals[0], radius = radius-2*size, colors = inner_colors)\n",
    "\n",
    "    #legend and title\n",
    "    ax.set(aspect=\"equal\", title='Codon Usage\\n'+organism_name+'')\n",
    "    ax.legend(['Adenine', \"Cytosine\", \"Guanine\", \"Uracil\"])\n",
    "    \n",
    "    plt.setp(inner, edgecolor='white')\n",
    "    plt.setp(middle, edgecolor='white')\n",
    "    plt.setp(outer, edgecolor='white')\n",
    "    \n",
    "    plt.figure(figsize=(10,10))\n",
    "    plt.show()\n",
    "\n",
    " \n",
    "#get_codon_graph(13009)"
   ]
  },
  {
   "cell_type": "code",
   "execution_count": null,
   "metadata": {},
   "outputs": [],
   "source": []
  }
 ],
 "metadata": {
  "kernelspec": {
   "display_name": "Python 3",
   "language": "python",
   "name": "python3"
  },
  "language_info": {
   "codemirror_mode": {
    "name": "ipython",
    "version": 3
   },
   "file_extension": ".py",
   "mimetype": "text/x-python",
   "name": "python",
   "nbconvert_exporter": "python",
   "pygments_lexer": "ipython3",
   "version": "3.8.5"
  }
 },
 "nbformat": 4,
 "nbformat_minor": 4
}
